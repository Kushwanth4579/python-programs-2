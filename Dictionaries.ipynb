{
  "nbformat": 4,
  "nbformat_minor": 0,
  "metadata": {
    "colab": {
      "name": "Dictionaries.ipynb",
      "provenance": [],
      "authorship_tag": "ABX9TyPRK1Ek8TwPm7Q7oKae0xRd",
      "include_colab_link": true
    },
    "kernelspec": {
      "name": "python3",
      "display_name": "Python 3"
    },
    "language_info": {
      "name": "python"
    }
  },
  "cells": [
    {
      "cell_type": "markdown",
      "metadata": {
        "id": "view-in-github",
        "colab_type": "text"
      },
      "source": [
        "<a href=\"https://colab.research.google.com/github/Kushwanth4579/python-programs-2/blob/module2/Dictionaries.ipynb\" target=\"_parent\"><img src=\"https://colab.research.google.com/assets/colab-badge.svg\" alt=\"Open In Colab\"/></a>"
      ]
    },
    {
      "cell_type": "code",
      "execution_count": null,
      "metadata": {
        "colab": {
          "base_uri": "https://localhost:8080/"
        },
        "id": "ewBXsF8teKdC",
        "outputId": "2ff42314-c720-4db0-fe32-32bae4acbd24"
      },
      "outputs": [
        {
          "output_type": "stream",
          "name": "stdout",
          "text": [
            "{'brand': 'Ford', 'model': 'Mustang', 'year': 1964, 'colours': ['red', 'black', 'white']}\n",
            "Ford\n",
            "1964\n",
            "4\n",
            "<class 'dict'>\n",
            "dict_keys(['brand', 'model', 'year', 'colours'])\n",
            "{'brand': 'Ford', 'model': 'Mustang', 'year': 1964, 'colours': ['red', 'black', 'white']}\n"
          ]
        }
      ],
      "source": [
        "car = {\n",
        "  \"brand\": \"Ford\",\n",
        "  \"model\": \"Mustang\",\n",
        "  \"year\": 1964,\n",
        "  \"colours\": ['red','black','white']\n",
        "  \n",
        "}\n",
        "print(car)\n",
        "print(car[\"brand\"])\n",
        "print(car[\"year\"])\n",
        "print(len(car))\n",
        "print(type(car))\n",
        "c=car.keys()\n",
        "print(c)\n",
        "bike=dict(car)\n",
        "print(bike)"
      ]
    },
    {
      "cell_type": "code",
      "source": [
        "placements={\n",
        "    \"name\": input(\"enter name: \"),\n",
        "    \"age\":  int(input(\"enter age: \")),\n",
        "    \"CGPA\": float(input(\"enter cgpa: \")),\n",
        "    \"section\": input(\"enter section: \"),\n",
        "    \"phone number\": int(input(\"enter phone nuber:  \"))\n",
        "}\n",
        "print(placements)\n",
        "print(placements[\"CGPA\"])\n",
        "print(placements.keys())\n",
        "print(len(placements))\n",
        "c=placements.keys()\n",
        "placements[\"attendence\"]=float(input(\"enter attendence\"))\n",
        "print(c)\n",
        "d=placements.values()\n",
        "print(d)\n",
        "e=placements.items()\n",
        "print(e)"
      ],
      "metadata": {
        "colab": {
          "base_uri": "https://localhost:8080/"
        },
        "id": "5IWR7wf7g30E",
        "outputId": "dc70942a-0cc8-4010-826a-52b2c5fe5a64"
      },
      "execution_count": null,
      "outputs": [
        {
          "output_type": "stream",
          "name": "stdout",
          "text": [
            "enter name: kushi\n",
            "enter age: 13\n",
            "enter cgpa: 123\n",
            "enter section: sdssdf\n",
            "enter phone nuber:  3246\n",
            "{'name': 'kushi', 'age': 13, 'CGPA': 123.0, 'section': 'sdssdf', 'phone number': 3246}\n",
            "123.0\n",
            "dict_keys(['name', 'age', 'CGPA', 'section', 'phone number'])\n",
            "5\n",
            "enter attendence324\n",
            "dict_keys(['name', 'age', 'CGPA', 'section', 'phone number', 'attendence'])\n",
            "dict_values(['kushi', 13, 123.0, 'sdssdf', 3246, 324.0])\n",
            "dict_items([('name', 'kushi'), ('age', 13), ('CGPA', 123.0), ('section', 'sdssdf'), ('phone number', 3246), ('attendence', 324.0)])\n"
          ]
        }
      ]
    }
  ]
}