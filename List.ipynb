{
  "nbformat": 4,
  "nbformat_minor": 0,
  "metadata": {
    "colab": {
      "name": "List.ipynb",
      "provenance": [],
      "authorship_tag": "ABX9TyNnJIDgEmoni60ECSuo493A",
      "include_colab_link": true
    },
    "kernelspec": {
      "name": "python3",
      "display_name": "Python 3"
    },
    "language_info": {
      "name": "python"
    }
  },
  "cells": [
    {
      "cell_type": "markdown",
      "metadata": {
        "id": "view-in-github",
        "colab_type": "text"
      },
      "source": [
        "<a href=\"https://colab.research.google.com/github/Kushwanth4579/python-programs-2/blob/module2/List.ipynb\" target=\"_parent\"><img src=\"https://colab.research.google.com/assets/colab-badge.svg\" alt=\"Open In Colab\"/></a>"
      ]
    },
    {
      "cell_type": "code",
      "execution_count": null,
      "metadata": {
        "colab": {
          "base_uri": "https://localhost:8080/"
        },
        "id": "w3nWNaw84d8I",
        "outputId": "1c0be52f-5fc5-4f1e-84c8-5d47e3d5094d"
      },
      "outputs": [
        {
          "output_type": "stream",
          "name": "stdout",
          "text": [
            "apple banana\n",
            "['apple', 'mango', 'grapes', 'jackfruit', 'papaya', 'banana']\n",
            "['banana', 'papaya', 'jackfruit', 'grapes', 'mango', 'apple']\n",
            "['apple', 'banana', 'grapes', 'jackfruit', 'mango', 'papaya']\n",
            "['apple', 'banana', 'grapes', 'jackfruit', 'mango']\n",
            "5\n"
          ]
        }
      ],
      "source": [
        "fruit=['apple','mango','grapes','papaya','banana']\n",
        "print(fruit[0],fruit[4])\n",
        "fruit.insert(3,'jackfruit')\n",
        "print(fruit)\n",
        "fruit.reverse()\n",
        "print(fruit)\n",
        "fruit.sort()\n",
        "print(fruit)\n",
        "fruit.pop()\n",
        "print(fruit)\n",
        "print(len(fruit))\n",
        "\n"
      ]
    },
    {
      "cell_type": "code",
      "source": [
        "fruit=['apple','mango','grapes','papaya','banana']\n",
        "print(fruit[0:3])\n",
        "print(fruit[3: ])"
      ],
      "metadata": {
        "colab": {
          "base_uri": "https://localhost:8080/"
        },
        "id": "fK7avODc6AG-",
        "outputId": "0ffbf7f9-71f4-4c40-d701-5706db7a8c3e"
      },
      "execution_count": null,
      "outputs": [
        {
          "output_type": "stream",
          "name": "stdout",
          "text": [
            "['apple', 'mango', 'grapes']\n",
            "['papaya', 'banana']\n"
          ]
        }
      ]
    },
    {
      "cell_type": "code",
      "source": [
        "n=[20,23,45,67,87]\n",
        "a=[5,7,'string',2.5]\n",
        "print(n[0:2])\n",
        "print(n[3]+n[2])\n",
        "print(a[0:3])\n",
        "n.extend([3,3,44])\n",
        "print(n)\n"
      ],
      "metadata": {
        "colab": {
          "base_uri": "https://localhost:8080/"
        },
        "id": "WK6lS86Z8F2-",
        "outputId": "193cd854-67e2-47d2-fd48-97adbf70a389"
      },
      "execution_count": null,
      "outputs": [
        {
          "output_type": "stream",
          "name": "stdout",
          "text": [
            "[20, 23]\n",
            "112\n",
            "[5, 7, 'string']\n",
            "[20, 23, 45, 67, 87, 3, 3, 44]\n"
          ]
        }
      ]
    },
    {
      "cell_type": "code",
      "source": [
        "for i in range(2,23,7):\n",
        "  print(i)"
      ],
      "metadata": {
        "colab": {
          "base_uri": "https://localhost:8080/"
        },
        "id": "GFvtsK9E_GET",
        "outputId": "29f530bb-2255-47be-943b-678be4fc9c6b"
      },
      "execution_count": null,
      "outputs": [
        {
          "output_type": "stream",
          "name": "stdout",
          "text": [
            "2\n",
            "9\n",
            "16\n"
          ]
        }
      ]
    }
  ]
}