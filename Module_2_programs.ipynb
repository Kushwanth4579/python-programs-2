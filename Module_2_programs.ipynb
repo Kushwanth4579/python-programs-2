{
  "nbformat": 4,
  "nbformat_minor": 0,
  "metadata": {
    "colab": {
      "name": "Module 2 programs.ipynb",
      "provenance": [],
      "authorship_tag": "ABX9TyOCthhGZDh1vDHG2BgvTndH",
      "include_colab_link": true
    },
    "kernelspec": {
      "name": "python3",
      "display_name": "Python 3"
    },
    "language_info": {
      "name": "python"
    }
  },
  "cells": [
    {
      "cell_type": "markdown",
      "metadata": {
        "id": "view-in-github",
        "colab_type": "text"
      },
      "source": [
        "<a href=\"https://colab.research.google.com/github/Kushwanth4579/python-programs-2/blob/module2/Module_2_programs.ipynb\" target=\"_parent\"><img src=\"https://colab.research.google.com/assets/colab-badge.svg\" alt=\"Open In Colab\"/></a>"
      ]
    },
    {
      "cell_type": "code",
      "execution_count": null,
      "metadata": {
        "colab": {
          "base_uri": "https://localhost:8080/"
        },
        "id": "9wSmDhkkRuNj",
        "outputId": "8d16c399-0f8b-4f52-e7a4-251e6828ab95"
      },
      "outputs": [
        {
          "output_type": "stream",
          "name": "stdout",
          "text": [
            "Enter N 4\n",
            "Enter R 2\n",
            "nCr is 6.0\n"
          ]
        }
      ],
      "source": [
        "#Create a function which accepts two inputs from the user and compute nCr\n",
        "import math\n",
        "a=int(input(\"Enter N \"))\n",
        "b=int(input(\"Enter R \"))\n",
        "if a<b :\n",
        "  print(\"It's not possible \")\n",
        "else :\n",
        "  nf=math.factorial(a)\n",
        "  rf=math.factorial(b)\n",
        "  nnf=math.factorial((a-b))\n",
        "  s=nf/(nnf*rf)\n",
        "  print(f\"nCr is {s}\")"
      ]
    },
    {
      "cell_type": "code",
      "source": [
        "#Recursive function to compute GCD of 2 numbers\n",
        "def gcd(a,b) :\n",
        "  k=a if (a<b) else b\n",
        "  while True:\n",
        "    if(a%k==0 and b%k==0):\n",
        "      break\n",
        "    k-=1\n",
        "  return k\n",
        "a=int(input(\"Enter 1st number \"))\n",
        "b=int(input(\"Enter 2nd number \"))\n",
        "g=gcd(a,b)\n",
        "print(g)\n"
      ],
      "metadata": {
        "colab": {
          "base_uri": "https://localhost:8080/"
        },
        "id": "p9oW2sTdWQfx",
        "outputId": "0717f7e3-a71e-40b6-9935-309f8a4a71d3"
      },
      "execution_count": null,
      "outputs": [
        {
          "output_type": "stream",
          "name": "stdout",
          "text": [
            "Enter 1st number 4\n",
            "Enter 2nd number 2\n",
            "2\n"
          ]
        }
      ]
    },
    {
      "cell_type": "code",
      "source": [
        "#Recursive function to find product of two numbers\n",
        "def prod(a,b) :\n",
        "  if a<b :\n",
        "    return prod(b,a)\n",
        "  elif b!=0 :\n",
        "    return (a+prod(a,b-1))\n",
        "  else :\n",
        "    return 0\n",
        "a=int(input(\"Enter 1st number \"))\n",
        "b=int(input(\"Enter 2nd number \"))\n",
        "p=prod(a,b)\n",
        "print(\"product of two numbers is\",p)\n"
      ],
      "metadata": {
        "colab": {
          "base_uri": "https://localhost:8080/"
        },
        "id": "7ruf3bR3bY9e",
        "outputId": "5eb4bdc5-cf29-4aba-f169-d2a77ef3fcc9"
      },
      "execution_count": null,
      "outputs": [
        {
          "output_type": "stream",
          "name": "stdout",
          "text": [
            "Enter 1st number 5\n",
            "Enter 2nd number 6\n",
            "product of two numbers is 30\n"
          ]
        }
      ]
    },
    {
      "cell_type": "code",
      "source": [
        "#Recursive function to generate Fibonacci series\n",
        "def fibb(n):\n",
        "  if n<=1 :\n",
        "    return 1\n",
        "  else :\n",
        "    return fibb(n-1)+fibb(n-2)\n",
        "n=int(input(\"Enter no. of terms \"))\n",
        "print(\"Fibonacci series is -->\")\n",
        "for i in range (n) :\n",
        "  print(fibb(i))"
      ],
      "metadata": {
        "colab": {
          "base_uri": "https://localhost:8080/"
        },
        "id": "aJOE07XffLiS",
        "outputId": "6c9ad439-1dd8-4fa5-f10d-6a0f6b39db49"
      },
      "execution_count": null,
      "outputs": [
        {
          "output_type": "stream",
          "name": "stdout",
          "text": [
            "Enter no. of terms 10\n",
            "Fibonacci series is -->\n",
            "1\n",
            "1\n",
            "2\n",
            "3\n",
            "5\n",
            "8\n",
            "13\n",
            "21\n",
            "34\n",
            "55\n"
          ]
        }
      ]
    },
    {
      "cell_type": "code",
      "source": [
        "#Program to print a specified list after removing the 0th, 4th and 5th elements\n",
        "def dele(a) :\n",
        "  a.pop(0)\n",
        "  a.pop(3)\n",
        "  a.pop(3)\n",
        "  return a\n",
        "List = ['Red', 'Green', 'White', 'Black', 'Pink', 'Yellow']\n",
        "a= dele(List)\n",
        "print(a)\n"
      ],
      "metadata": {
        "colab": {
          "base_uri": "https://localhost:8080/"
        },
        "id": "zavizj7OfbLo",
        "outputId": "5418d71c-7f8a-441b-e414-dd79e033ce98"
      },
      "execution_count": null,
      "outputs": [
        {
          "output_type": "stream",
          "name": "stdout",
          "text": [
            "['Green', 'White', 'Black']\n"
          ]
        }
      ]
    },
    {
      "cell_type": "code",
      "source": [
        "#Program to get the difference between the two lists\n",
        "def addi(a,b) :\n",
        "  c=sum(a)-sum(b)\n",
        "  return c\n",
        "a=list(map(int, input().rstrip().split()))\n",
        "b=list(map(int, input().rstrip().split()))\n",
        "c=addi(a,b)\n",
        "print(c)\n"
      ],
      "metadata": {
        "colab": {
          "base_uri": "https://localhost:8080/"
        },
        "id": "kjKDsLnXfsA3",
        "outputId": "549f104d-4d90-496c-99c8-b32c857046a6"
      },
      "execution_count": null,
      "outputs": [
        {
          "output_type": "stream",
          "name": "stdout",
          "text": [
            "2\n",
            "5\n",
            "-3\n"
          ]
        }
      ]
    },
    {
      "cell_type": "code",
      "source": [
        "#Program to find the second smallest number and second largest number in a list.\n",
        "def second(a) :\n",
        "  a.sort()\n",
        "  l=len(a)\n",
        "  a.remove(a[0])\n",
        "  a.remove(a[l-2])\n",
        "  l=len(a)\n",
        "  return a[0],a[l-1]\n",
        "a=set(map(int, input().rstrip().split()))\n",
        "a=list(a)\n",
        "b=second(a)\n",
        "print(b)\n"
      ],
      "metadata": {
        "id": "DPUf_iSFg9qD"
      },
      "execution_count": null,
      "outputs": []
    },
    {
      "cell_type": "code",
      "source": [
        "  #Given a list of numbers of list, write a Python program to create a list of tuples having first element\n",
        "#as the number and second element as the square of the number\n",
        "a=[1,2,3,4,5,6]\n",
        "b=[]\n",
        "for i in range (len(a)) :\n",
        "  c=[]\n",
        "  c.append(a[i])\n",
        "  p=a[i]*a[i]\n",
        "  c.append(p)\n",
        "  c=tuple(c)\n",
        "  b.append(c)\n",
        "print(b)\n"
      ],
      "metadata": {
        "id": "86XnmAHFhSKr"
      },
      "execution_count": null,
      "outputs": []
    },
    {
      "cell_type": "code",
      "source": [
        "#Given list of tuples, remove all the tuples with length K\n",
        "test = [(4, 5), (4, ), (8, 6, 7), (1, ), (3, 4, 6, 7)]\n",
        "k=2\n",
        "l=len(test)\n",
        "for i in range (l) :\n",
        "  l=len(test)\n",
        "  a=test[i]\n",
        "  tl=len(a)\n",
        "  if tl==k :\n",
        "    del test[i]\n",
        "  if i==0 :\n",
        "    break\n",
        "  "
      ],
      "metadata": {
        "id": "-DaOa8M_kE86"
      },
      "execution_count": null,
      "outputs": []
    },
    {
      "cell_type": "code",
      "source": [
        "\n",
        "#Program to generate and print a dictionary that contains a number (between 1 and n) in the form (x,x*x)\n",
        "n=int(input(\"Enter a number \"))\n",
        "a={}\n",
        "for i in range(n) :\n",
        "  k=(i+1)\n",
        "  v=k*k\n",
        "  a.update({k:v})\n",
        "\n"
      ],
      "metadata": {
        "colab": {
          "base_uri": "https://localhost:8080/"
        },
        "id": "6ivzeNb4k_Tq",
        "outputId": "fac926e3-2c59-4642-ac4d-d46c4514505e"
      },
      "execution_count": null,
      "outputs": [
        {
          "name": "stdout",
          "output_type": "stream",
          "text": [
            "Enter a number 5\n"
          ]
        }
      ]
    },
    {
      "cell_type": "code",
      "source": [
        "#Program to remove a key from a dictionary\n",
        "tdict = {\n",
        "\"brand\": \"Ford\",\n",
        "\"model\": \"Mustang\",\n",
        "\"year\": 1964\n",
        "}\n",
        "x=tdict.keys()\n",
        "print(\"Keys of this dictionary are : \" , end= \"\")\n",
        "print(x)\n",
        "x=input(\"Enter key to be removed \")\n",
        "tdict = {\n",
        "\"brand\": \"Ford\",\n",
        "\"model\": \"Mustang\",\n",
        "\"year\": 1964\n",
        "}\n",
        "tdict.pop(x)\n",
        "tdict\n"
      ],
      "metadata": {
        "id": "upoYpsX2ldkl"
      },
      "execution_count": null,
      "outputs": []
    },
    {
      "cell_type": "code",
      "source": [
        "#Program to get the maximum and minimum value in a dictionary\n",
        "dic={}\n",
        "n=int(input(\"Enter number of keys to e entered \"))\n",
        "for i in range (n) :\n",
        "  k=input(\"enter key :\")\n",
        "  v=int(input(\"enter value :\"))\n",
        "  dic.update({k:v})\n",
        "x= list(dic.values())\n",
        "x.sort()\n",
        "print(x[0],x[len(x)-1])"
      ],
      "metadata": {
        "id": "7U66hhGZmuzE"
      },
      "execution_count": null,
      "outputs": []
    },
    {
      "cell_type": "code",
      "source": [
        "#Program for replacing one substring by another\n",
        "a=input(\"Enter your string \")\n",
        "n=input(\"Enter substring to be replaced \")\n",
        "m=input(\"Enter replacing substring \")\n",
        "x=a.replace(n,m)\n",
        "print(f\"replaced string is {x}\")"
      ],
      "metadata": {
        "id": "4bxGqqgxnF6g"
      },
      "execution_count": null,
      "outputs": []
    },
    {
      "cell_type": "code",
      "source": [
        "#Program to Acronym generator for any user input (ex-input is Random memory access then output\n",
        "#should be RMA).Example - Random number (RN)\n",
        "a=list(map(str, input().rstrip().split()))\n",
        "d=[]\n",
        "for i in range(len(a)) :\n",
        "  b=a[i]\n",
        "  c=b[0]\n",
        "  c=c.upper()\n",
        "  d.append(c)\n",
        "for i in range (len(d)) :\n",
        "  print(d[i] , end =\"\")"
      ],
      "metadata": {
        "id": "sI9-Xvv_nLAs"
      },
      "execution_count": null,
      "outputs": []
    },
    {
      "cell_type": "code",
      "source": [
        "#Program to count the number of strings where the string length is 2 or more and the first and last\n",
        "#character are same from a given list of strings\n",
        "b=list(map(str,input().rstrip().rsplit()))\n",
        "s=0\n",
        "for i in a:\n",
        "  len(i)\n",
        "  if i[0]==i[l-1] and l>2:\n",
        "    s+=1\n",
        "print(s)"
      ],
      "metadata": {
        "id": "ow9xl_GnnaZ5"
      },
      "execution_count": null,
      "outputs": []
    },
    {
      "cell_type": "code",
      "source": [
        "#Program for Counting occurrence of a certain element in a string\n",
        "a=input(\"Enter your string \")\n",
        "n=input(\"Enter element to be counted \")\n",
        "f=a.count(n)\n",
        "print(f\"{n} is repeated {f} times\")"
      ],
      "metadata": {
        "id": "kdWMCBSum3X-"
      },
      "execution_count": null,
      "outputs": []
    }
  ]
}