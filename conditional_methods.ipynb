{
  "nbformat": 4,
  "nbformat_minor": 0,
  "metadata": {
    "colab": {
      "name": "conditional methods.ipynb",
      "provenance": [],
      "authorship_tag": "ABX9TyPgwXVyr+EC0OJahRBC6cP8",
      "include_colab_link": true
    },
    "kernelspec": {
      "name": "python3",
      "display_name": "Python 3"
    },
    "language_info": {
      "name": "python"
    }
  },
  "cells": [
    {
      "cell_type": "markdown",
      "metadata": {
        "id": "view-in-github",
        "colab_type": "text"
      },
      "source": [
        "<a href=\"https://colab.research.google.com/github/Kushwanth4579/python-programs-2/blob/module1/conditional_methods.ipynb\" target=\"_parent\"><img src=\"https://colab.research.google.com/assets/colab-badge.svg\" alt=\"Open In Colab\"/></a>"
      ]
    },
    {
      "cell_type": "code",
      "execution_count": 2,
      "metadata": {
        "colab": {
          "base_uri": "https://localhost:8080/"
        },
        "id": "Lu0t6iBcjWre",
        "outputId": "44f29d4b-0521-4b8b-b9a5-3cb54a8aff95"
      },
      "outputs": [
        {
          "output_type": "stream",
          "name": "stdout",
          "text": [
            "enter age: 44\n",
            "eligible\n"
          ]
        }
      ],
      "source": [
        "#find out the person the person is eligible to vote or not\n",
        "a=int(input(\"enter age: \"))\n",
        "if(a>=18):\n",
        "  print(\"eligible\")\n",
        "else:\n",
        "  print(\"not eligible\")"
      ]
    },
    {
      "cell_type": "code",
      "source": [
        "#maximum of three numbersvvvvvvvvvvvvv\n",
        "a=int(input(\"enter a: \"))\n",
        "b=int(input(\"enter b: \"))\n",
        "c=int(input(\"enter c: \"))\n",
        "if(a>b and a>c):\n",
        "  print(\"a is maximum\")\n",
        "elif(b>c):\n",
        "  print(\"b is maximum\")\n",
        "else:\n",
        "  print(\"c is maximum\")"
      ],
      "metadata": {
        "colab": {
          "base_uri": "https://localhost:8080/"
        },
        "id": "2wDSIGPTjrzD",
        "outputId": "72769dd3-f712-4ba1-c19c-d07b5176507f"
      },
      "execution_count": 5,
      "outputs": [
        {
          "output_type": "stream",
          "name": "stdout",
          "text": [
            "enter a: 7\n",
            "enter b: 7\n",
            "enter c: 6\n",
            "b is maximum\n"
          ]
        }
      ]
    },
    {
      "cell_type": "code",
      "source": [
        "#minimum of three numbers\n",
        "a=int(input(\"enter a: \"))\n",
        "b=int(input(\"enter b: \"))\n",
        "c=int(input(\"enter c: \"))\n",
        "if(a<b and a<c):\n",
        "  print(\"a is minimum\")\n",
        "elif(b<c):\n",
        "  print(\"b is minimum\")\n",
        "else:\n",
        "  print(\"c is minimum\")"
      ],
      "metadata": {
        "colab": {
          "base_uri": "https://localhost:8080/"
        },
        "id": "lfa2nz_pj9Lj",
        "outputId": "4682cf73-8ee9-409a-c477-9acf1ff73219"
      },
      "execution_count": 6,
      "outputs": [
        {
          "output_type": "stream",
          "name": "stdout",
          "text": [
            "enter a: 6\n",
            "enter b: 8\n",
            "enter c: 3\n",
            "c is minimum\n"
          ]
        }
      ]
    },
    {
      "cell_type": "code",
      "source": [
        "#positive or negative or zero\n",
        "a=int(input(\"enter a: \"))\n",
        "if(a>0):\n",
        "  print(\"a is positive number\")\n",
        "elif(a<0):\n",
        "  print(\"a is negative number\")\n",
        "else:\n",
        "  print(\"a is 0\")"
      ],
      "metadata": {
        "colab": {
          "base_uri": "https://localhost:8080/"
        },
        "id": "ITcU7vlxkORU",
        "outputId": "525cccab-5379-41cd-cdca-2bd50aa10f83"
      },
      "execution_count": 7,
      "outputs": [
        {
          "output_type": "stream",
          "name": "stdout",
          "text": [
            "enter a: 5\n",
            "a is positive number\n"
          ]
        }
      ]
    },
    {
      "cell_type": "code",
      "source": [
        "#types of triangle\n",
        "a=int(input(\"enter a: \"))\n",
        "b=int(input(\"enter b: \"))\n",
        "c=int(input(\"enter c: \"))\n",
        "if(a+b>c and b+c>a and c+a>b):\n",
        "  if(a==b and b==c):\n",
        "    print(\"equilateral triangle\")\n",
        "  elif(a==b or b==c):\n",
        "    print(\"isocelse triangle\")\n",
        "  else:\n",
        "    print(\"scalene triangle\")\n",
        "else:\n",
        "  print(\"triangle not possible\")"
      ],
      "metadata": {
        "colab": {
          "base_uri": "https://localhost:8080/"
        },
        "id": "xXmRO8z1kW77",
        "outputId": "67e4a416-55ee-4968-a17f-3127ebd8441e"
      },
      "execution_count": 9,
      "outputs": [
        {
          "output_type": "stream",
          "name": "stdout",
          "text": [
            "enter a: 3\n",
            "enter b: 4\n",
            "enter c: 5\n",
            "scalene triangle\n"
          ]
        }
      ]
    },
    {
      "cell_type": "code",
      "source": [
        "#finding a leap year\n",
        "a=int(input(\"enter a year: \"))\n",
        "if(a%4==0):\n",
        "  if(a%100==0):\n",
        "    if(a%400==0):\n",
        "      print(\"it is a leap year\")\n",
        "    else:\n",
        "      print(\"it is not a leap year\")\n",
        "  else:\n",
        "      print(\"it is a leap year\")\n",
        "else:\n",
        "  print(\"it is not a leap year\")"
      ],
      "metadata": {
        "colab": {
          "base_uri": "https://localhost:8080/"
        },
        "id": "tmczDGdEks3T",
        "outputId": "079a9f8a-52ba-4426-c348-b42c0f45ee8f"
      },
      "execution_count": 10,
      "outputs": [
        {
          "output_type": "stream",
          "name": "stdout",
          "text": [
            "enter a year: 2004\n",
            "it is a leap year\n"
          ]
        }
      ]
    },
    {
      "cell_type": "code",
      "source": [
        ""
      ],
      "metadata": {
        "id": "tfA0Twpck_k7"
      },
      "execution_count": null,
      "outputs": []
    }
  ]
}