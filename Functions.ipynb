{
  "nbformat": 4,
  "nbformat_minor": 0,
  "metadata": {
    "colab": {
      "name": "Functions.ipynb",
      "provenance": [],
      "authorship_tag": "ABX9TyOyWor0Ulbbp+fFBcs38gZC",
      "include_colab_link": true
    },
    "kernelspec": {
      "name": "python3",
      "display_name": "Python 3"
    },
    "language_info": {
      "name": "python"
    }
  },
  "cells": [
    {
      "cell_type": "markdown",
      "metadata": {
        "id": "view-in-github",
        "colab_type": "text"
      },
      "source": [
        "<a href=\"https://colab.research.google.com/github/Kushwanth4579/python-programs-2/blob/module2/Functions.ipynb\" target=\"_parent\"><img src=\"https://colab.research.google.com/assets/colab-badge.svg\" alt=\"Open In Colab\"/></a>"
      ]
    },
    {
      "cell_type": "code",
      "execution_count": null,
      "metadata": {
        "colab": {
          "base_uri": "https://localhost:8080/"
        },
        "id": "oCiy_LeFVcMX",
        "outputId": "11238658-1798-49f6-9f52-32254a1d5331"
      },
      "outputs": [
        {
          "output_type": "stream",
          "name": "stdout",
          "text": [
            "hi\n",
            "hello\n",
            "bye\n"
          ]
        }
      ],
      "source": [
        "def kushu():\n",
        "  print(\"hi\")\n",
        "  print(\"hello\")\n",
        "  print(\"bye\")\n",
        "kushu()"
      ]
    },
    {
      "cell_type": "code",
      "source": [
        ""
      ],
      "metadata": {
        "id": "VrVZtLnVknsA"
      },
      "execution_count": null,
      "outputs": []
    },
    {
      "cell_type": "markdown",
      "source": [
        "Python built in fuctions\n"
      ],
      "metadata": {
        "id": "mxD3Oy-BlRHP"
      }
    },
    {
      "cell_type": "code",
      "source": [
        "a= -34.5\n",
        "print(abs(a))\n",
        "b=[6,2,3]\n",
        "print(all(b))"
      ],
      "metadata": {
        "colab": {
          "base_uri": "https://localhost:8080/"
        },
        "id": "YPFWwezslVe3",
        "outputId": "15f79f05-4f29-44e5-880a-ecf0ba673970"
      },
      "execution_count": null,
      "outputs": [
        {
          "output_type": "stream",
          "name": "stdout",
          "text": [
            "34.5\n",
            "True\n"
          ]
        }
      ]
    },
    {
      "cell_type": "code",
      "source": [
        ""
      ],
      "metadata": {
        "id": "vp05VzIajU6b"
      },
      "execution_count": null,
      "outputs": []
    },
    {
      "cell_type": "code",
      "source": [
        "def kushu(fname):\n",
        "  print(fname+ \"loves srikar\")\n",
        "kushu(\"anusha \")\n",
        "kushu(\"geethika \")\n",
        "kushu(\"harshitha \")"
      ],
      "metadata": {
        "colab": {
          "base_uri": "https://localhost:8080/"
        },
        "id": "EBMkVaSnZV38",
        "outputId": "c50df6b6-3c3b-4690-dee5-3344a3f7f37b"
      },
      "execution_count": null,
      "outputs": [
        {
          "output_type": "stream",
          "name": "stdout",
          "text": [
            "anusha loves srikar\n",
            "geethika loves srikar\n",
            "harshitha loves srikar\n"
          ]
        }
      ]
    },
    {
      "cell_type": "code",
      "source": [
        "def vote(name,age,gender):\n",
        "  print(\"name is \",name, \"gender is \",gender, \"age is \",age)\n",
        "  if age>=18:\n",
        "    print(\"eligible for voting\")\n",
        "  else:\n",
        "    print(\"not eligible for voting\")\n",
        "name=(input(\"enter name \"))\n",
        "gender=(input(\"gender is \"))\n",
        "age=(int(input(\"enter age \")))\n",
        "vote(name,age,gender)\n",
        "\n",
        "\n",
        "\n"
      ],
      "metadata": {
        "colab": {
          "base_uri": "https://localhost:8080/"
        },
        "id": "Yq0Vols-aR8d",
        "outputId": "a42308e6-3838-471b-9a6c-6a8f08b3c244"
      },
      "execution_count": null,
      "outputs": [
        {
          "output_type": "stream",
          "name": "stdout",
          "text": [
            "enter name kushwanth\n",
            "gender is male\n",
            "enter age 24\n",
            "name is  kushwanth gender is  male age is  24\n",
            "eligible for voting\n"
          ]
        }
      ]
    }
  ]
}