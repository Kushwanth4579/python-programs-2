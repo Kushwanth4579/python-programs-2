{
  "nbformat": 4,
  "nbformat_minor": 0,
  "metadata": {
    "colab": {
      "name": "Tuples.ipynb",
      "provenance": [],
      "authorship_tag": "ABX9TyN73itaFoQ8gk3BS0A318SF",
      "include_colab_link": true
    },
    "kernelspec": {
      "name": "python3",
      "display_name": "Python 3"
    },
    "language_info": {
      "name": "python"
    }
  },
  "cells": [
    {
      "cell_type": "markdown",
      "metadata": {
        "id": "view-in-github",
        "colab_type": "text"
      },
      "source": [
        "<a href=\"https://colab.research.google.com/github/Kushwanth4579/python-programs-2/blob/module2/Tuples.ipynb\" target=\"_parent\"><img src=\"https://colab.research.google.com/assets/colab-badge.svg\" alt=\"Open In Colab\"/></a>"
      ]
    },
    {
      "cell_type": "code",
      "execution_count": null,
      "metadata": {
        "colab": {
          "base_uri": "https://localhost:8080/"
        },
        "id": "MUNoRhLSj2a0",
        "outputId": "058ed29a-cc85-4bcf-94f9-4bff06c186d5"
      },
      "outputs": [
        {
          "output_type": "stream",
          "name": "stdout",
          "text": [
            "grapes\n",
            "lemon\n",
            "('grapes', 'cherry', 'kiwi', 'orange')\n",
            "('apple', 'banana', 'grapes', 'cherry', 'kiwi')\n",
            "('grapes', 'cherry', 'kiwi', 'orange', 'mango', 'lemon')\n",
            "('kiwi', 'orange', 'mango')\n",
            "('apple', 'banana', 'grapes')\n",
            "yes,'cherry' is in there in a\n",
            "('apple', 'banana', 'grapes', 'raspberry', 'kiwi', 'orange', 'mango', 'lemon')\n",
            "('apple', 'banana', 'grapes', 'raspberry', 'kiwi', 'orange', 'mango', 'lemon', 'icefruit')\n"
          ]
        }
      ],
      "source": [
        "a=('apple','banana','grapes','cherry','kiwi','orange','mango','lemon')\n",
        "print(a[2])\n",
        "print(a[-1])\n",
        "print(a[2:6])\n",
        "print(a[:5])\n",
        "print(a[2:])\n",
        "print(a[-4:-1])\n",
        "print(a[:-5])\n",
        "if 'cherry' in a:\n",
        "  print(\"yes,'cherry' is in there in a\")\n",
        "b=list(a)\n",
        "b[3]='raspberry'\n",
        "a=tuple(b)\n",
        "print(a)\n",
        "c=list(a)\n",
        "c.append('icefruit')\n",
        "a=tuple(c)\n",
        "print(a)"
      ]
    }
  ]
}